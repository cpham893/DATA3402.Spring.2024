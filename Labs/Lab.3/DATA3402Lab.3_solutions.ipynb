{
 "cells": [
  {
   "cell_type": "markdown",
   "metadata": {},
   "source": [
    "Christine Pham\n",
    "1001705879"
   ]
  },
  {
   "cell_type": "markdown",
   "metadata": {},
   "source": [
    "# Lab 3\n",
    "\n",
    "In this lab we will become familiar with distributions, histograms, and functional programming. Do not use numpy or any other library for this lab.\n",
    "\n",
    "Before that, lets get setup homework submission and submit your previous lab.  \n",
    "\n",
    "## Working on the Command-line.\n",
    "\n",
    "It is important for you to learn to work on the command line and to be familiar with the Unix environment (e.g. Linux, Mac OS, or Windows Linux Subsystem). We'll go over working on the command-line in detail later in the course.\n",
    "\n",
    "You are required to submit your work in this course via GitHub. Today in class, you will setup everything on the command-line.\n",
    "\n",
    "### Command-line basics\n",
    "\n",
    "There is plenty of material online that will help you figure out how to do various tasks on the command line. Commands you may need to know today:\n",
    "\n",
    "* `ls`: lists the contents of the current directory.\n",
    "* `pwd`: prints the path of the current directory.\n",
    "* `cd <directory>`: changes your current directory to the specified directory.\n",
    "* `cd ..`: changes current directory to the previous directory. Basically steps out of the current directory to the directory containing the current directory.\n",
    "* `mkdir <directory>`: create a new directory with the specified name.\n",
    "* `rmdir <directory>`: removes the specified directory. Note it has to be empty.\n",
    "* `rm <filename>`: deletes the specified file.\n",
    "* `mv <filename 1> <filename 1>`: Moves or renames a file.\n",
    "* `cp <filename 1> <filename 2>`: copies an file. If you just provide a path to a directory, it copies the file into that directory with the same filename. If you specifiy a new filename, the copy has a new name. For example `cp File.1.txt File.2.txt` creates a copy of `File.1.txt` with the name `File.2.txt`. Meanwhile `cp File.1.txt my_directory`, where `my_directory` is a directory, creates a copy of `File.1.txt` in directory `my_directory` with the name `File.1.txt`.\n",
    "\n",
    "For reference, here are some example resources I found by googling:\n",
    "\n",
    "* Paths and Wildcards: https://www.warp.dev/terminus/linux-wildcards\n",
    "* Basic commands like copy: https://kb.iu.edu/d/afsk\n",
    "* General introduction to shell: https://github-pages.ucl.ac.uk/RCPSTrainingMaterials/HPCandHTCusingLegion/2_intro_to_shell.html\n",
    "* Manual pages: https://www.geeksforgeeks.org/linux-man-page-entries-different-types/?ref=ml_lbp\n",
    "* Chaining commands: https://www.geeksforgeeks.org/chaining-commands-in-linux/?ref=ml_lbp\n",
    "* Piping: https://www.geeksforgeeks.org/piping-in-unix-or-linux/\n",
    "* Using sed: https://www.geeksforgeeks.org/sed-command-linux-set-2/?ref=ml_lbp\n",
    "* Various Unix commands: https://www.geeksforgeeks.org/linux-commands/?ref=lbp\n",
    "* Cheat sheets:\n",
    "    * https://www.stationx.net/unix-commands-cheat-sheet/\n",
    "    * https://cheatography.com/davechild/cheat-sheets/linux-command-line/\n",
    "    * https://www.theknowledgeacademy.com/blog/unix-commands-cheat-sheet/\n",
    "    \n",
    "These aren't necessarily the best resources. Feel free to search for better ones. Also, don't forget that Unix has built-in manual pages for all of its commands. Just type `man <command>` at the command prompt. Use the space-bar to scroll through the documentation and \"q\" to exit.\n",
    "\n",
    "\n",
    "### Setup and Submission\n",
    "\n",
    "Our course repository is public. The instructions here aim to have you setup a fork of the course repository. Unfortunately because you are forking a public repo, your fork will have to be public also. \n",
    "\n",
    "You should be familiar with git from the first semester of this course. I assume that you all have github accounts and have setup things to be able to [push to github using ssh](https://docs.github.com/en/github/authenticating-to-github/connecting-to-github-with-ssh). The instuctions here lead you to:\n",
    "\n",
    "We'll overview what you will do before going through step by step instructions.\n",
    "\n",
    "1. Setup:\n",
    "    1. Fork the class repository. Some directions in [fork-a-repo](https://docs.github.com/en/github/getting-started-with-github/fork-a-repo).\n",
    "    1. Create a directory on your personal system where you will keep all course materials.\n",
    "    1. In that directory, clone your fork of the repository.\n",
    "    1. Using `git remote`, set the upstream to be the class repo, so you can pull from the class and push to your fork.\n",
    "\n",
    "1. Submission:\n",
    "    1. Copy your solutions into the appropriate directory (e.g. into `Labs/Lab.2/`) and with appropriate filename `Lab.2.solution.ipynb'.\n",
    "    1. Commit / push your solutions.\n",
    "    1. Grant access to course instructors.\n",
    "\n",
    "Below are step by step instructions with examples (including example directory naming convention). Feel free to modify things as you see fit. \n",
    "\n",
    "#### Setup\n",
    "You should only need to follow this instructions once. Here are some useful git commands:\n",
    "\n",
    "* Git help: `git help`\n",
    "* Git remote help: `git help remote`\n",
    "* Check remote status: `git remote -v`\n",
    "* Add a remote: `git remote add <stream name> <repo URL>`\n",
    "* Add a remove: `git remote remove <stream name>`\n",
    "\n",
    "Steps:\n",
    "1. In a browser, log into GitHub and navigate to the [course repository](https://github.com/UTA-DataScience/DATA3402.Spring.2024).\n",
    "1. On the top right of the page, press the fork button to create a new fork into your own GitHub account.\n",
    "1. After successful fork, you should find the browser showing your fork of the course repository. Use the green \"Code\" button to copy path to the repo into your the clipboard of your computer.\n",
    "1. Open a shell on your personal computer.\n",
    "1. If you have not done so already, create a new directory/folder where you will keep all course material to navigate to it. For example: `mkdir Data-3402` and `cd Data-3402`.\n",
    "1. Clone your fork of the repository using `git clone` followed by the path you copied into your clipboard. (copy/paste)\n",
    "1. Paste the URL to your fork in the worksheet for the TAs and instructors.\n",
    "1. Now go into the directory of your clone (`cd DATA3402.Spring.2024`).\n",
    "1. Type `git remote -v` to see the current setup for fetch and pull.\n",
    "1. Note the URL you see. This should be the same as what you used for your clone for both push and fetch.\n",
    "1. Delete the origin remote using `git remote remove origin`.\n",
    "1. Add the course repo as your remote using `git remote add origin https://github.com/UTA-DataScience/DATA3402.Spring.2024.git`.\n",
    "1. Change the push to point to your fork. This means you will need the URL to your clone we copied earlier and confirmed as the original origin. The command will look something like: `git remote set-url --push origin  https://github.com/XXXXXX/DATA3402.Spring.2024.git`, where XXXXX is your username on GitHub.\n",
    "1. Note that if you setup everything correctly, you now should be able to do `git pull` to get updates from the course repo, and do `git push` to push your commits into your own fork.\n",
    "\n",
    "### Submission\n",
    "These instructions outline how you submit files. Some useful commands:\n",
    "* To add a file to local repository: `git add <file>`.\n",
    "* To commit all changed files into local repository: `git -a -m \"A message\"`. You need to provide some comment when you commit. \n",
    "* To push the commited files from the local repository to GitHub: `git push`.\n",
    "* To get updates from GitHub: `git pull`.\n",
    "\n",
    "Steps:\n",
    "1. To submit your labs, navigate to your clone of your fork of the course repository. \n",
    "1. Use `git pull` to make sure you have the latest updates. \n",
    "1. Make sure your copy of the lab your are working on is in the appropriate place in this clone. That means if you have the file elsewhere, copy it to the same directory in your clone of your fork. \n",
    "1. Note that in order to avoid future conflicts, you should always name your solution differently than the original file in the class repo. For example if your file is still named `Lab.2.ipynb` you should rename it using the `mv` command: `mv Lab.2.ipynb Lab.2.solution.ipynb`. \n",
    "1. Add and files you wish to submit into the repo. For example: `git add Labs/Lab.2/Lab.2.solution.ipynb`\n",
    "1. Commit any changes: `git commit -a -m \"Lab 2 updates\"`\n",
    "1. Push your changes: `git push`\n",
    "1. Check on github website that your solutions have been properly submitted.\n",
    "\n",
    "Before you leave the session today, submit your Lab.2 solution as is now to make sure you can do it. If you need to work further on your lab, navigate jupyter to the copy of the lab you just submitted and work there. Once done, repeat the commit and push commands to submit your updated solution. Note that lab 2 is due by midnight today (Friday 2/9/2024).\n"
   ]
  },
  {
   "cell_type": "markdown",
   "metadata": {},
   "source": [
    "### Uniform Distribution\n",
    "Lets start with generating some fake random data. You can get a random number between 0 and 1 using the python random module as follow:"
   ]
  },
  {
   "cell_type": "code",
   "execution_count": 1,
   "metadata": {},
   "outputs": [
    {
     "name": "stdout",
     "output_type": "stream",
     "text": [
      "The Value of x is 0.2892190890579345\n"
     ]
    }
   ],
   "source": [
    "import random\n",
    "x=random.random()\n",
    "print(\"The Value of x is\", x)"
   ]
  },
  {
   "cell_type": "markdown",
   "metadata": {},
   "source": [
    "Everytime you call random, you will get a new number.\n",
    "\n",
    "*Exercise 1:* Using random, write a function `generate_uniform(N, mymin, mymax)`, that returns a python list containing N random numbers between specified minimum and maximum value. Note that you may want to quickly work out on paper how to turn numbers between 0 and 1 to between other values. "
   ]
  },
  {
   "cell_type": "code",
   "execution_count": 2,
   "metadata": {},
   "outputs": [],
   "source": [
    "def generate_uniform(N,x_min,x_max):\n",
    "    out = []\n",
    "\n",
    "    for num in range(N):\n",
    "        num=random.random()\n",
    "        scaled=num*(x_max-x_min)+x_min\n",
    "        out.append(scaled)\n",
    "    \n",
    "    return out"
   ]
  },
  {
   "cell_type": "code",
   "execution_count": 3,
   "metadata": {},
   "outputs": [
    {
     "name": "stdout",
     "output_type": "stream",
     "text": [
      "Data Type: <class 'list'>\n",
      "Data Length: 1000\n",
      "Type of Data Contents: <class 'float'>\n",
      "Data Minimum: -9.96988734560859\n",
      "Data Maximum: 9.96966807304663\n"
     ]
    }
   ],
   "source": [
    "# Test your solution here\n",
    "data=generate_uniform(1000,-10,10)\n",
    "print (\"Data Type:\", type(data))\n",
    "print (\"Data Length:\", len(data))\n",
    "if len(data)>0: \n",
    "    print (\"Type of Data Contents:\", type(data[0]))\n",
    "    print (\"Data Minimum:\", min(data))\n",
    "    print (\"Data Maximum:\", max(data))"
   ]
  },
  {
   "cell_type": "markdown",
   "metadata": {},
   "source": [
    "*Exercise 2a:* \n",
    "Write a function that computes the mean of values in a list. Recall the equation for the mean of a random variable $\\bf{x}$ computed on a data set of $n$ values $\\{ x_i \\} = \\{x_1, x_2, ..., x_n\\}$  is ${\\bf\\bar{x}} = \\frac{1}{n} \\sum_i^n x_i$."
   ]
  },
  {
   "cell_type": "code",
   "execution_count": 4,
   "metadata": {},
   "outputs": [],
   "source": [
    "def mean(Data):\n",
    "    m=0\n",
    "    \n",
    "    n=0\n",
    "    for num in Data:\n",
    "        n+=num \n",
    "    m=n/len(Data)\n",
    "    \n",
    "    return m"
   ]
  },
  {
   "cell_type": "code",
   "execution_count": 5,
   "metadata": {},
   "outputs": [
    {
     "name": "stdout",
     "output_type": "stream",
     "text": [
      "Mean of Data: 0.13398004965392377\n"
     ]
    }
   ],
   "source": [
    "# Test your solution here\n",
    "print (\"Mean of Data:\", mean(data))"
   ]
  },
  {
   "cell_type": "markdown",
   "metadata": {},
   "source": [
    "*Exercise 2b:* \n",
    "Write a function that computes the variance of values in a list. Recall the equation for the variance of a random variable $\\bf{x}$ computed on a data set of $n$ values $\\{ x_i \\} = \\{x_1, x_2, ..., x_n\\}$  is ${\\bf\\langle x \\rangle} = \\frac{1}{n} \\sum_i^n (x_i - {\\bf\\bar{x}})$."
   ]
  },
  {
   "cell_type": "code",
   "execution_count": 6,
   "metadata": {},
   "outputs": [],
   "source": [
    "def variance(Data):\n",
    "  m=0\n",
    "  \n",
    "  n=len(Data)\n",
    "  mean=sum(Data)/n\n",
    "  deviations=[(x-mean)**2 for x in Data]\n",
    "  m=sum(deviations)/n\n",
    "  \n",
    "  return m"
   ]
  },
  {
   "cell_type": "code",
   "execution_count": 7,
   "metadata": {},
   "outputs": [
    {
     "name": "stdout",
     "output_type": "stream",
     "text": [
      "Variance of Data: 34.23615757531196\n"
     ]
    }
   ],
   "source": [
    "# Test your solution here\n",
    "print (\"Variance of Data:\", variance(data))"
   ]
  },
  {
   "cell_type": "markdown",
   "metadata": {},
   "source": [
    "## Histogramming"
   ]
  },
  {
   "cell_type": "markdown",
   "metadata": {},
   "source": [
    "*Exercise 3:* Write a function that bins the data so that you can create a histogram. An example of how to implement histogramming is the following logic:\n",
    "\n",
    "* User inputs a list of values `x` and optionally `n_bins` which defaults to 10.\n",
    "* If not supplied, find the minimum and maximum (`x_min`,`x_max`) of the values in x.\n",
    "* Determine the bin size (`bin_size`) by dividing the range of the function by the number of bins.\n",
    "* Create an empty list of zeros of size `n_bins`, call it `hist`.\n",
    "* Loop over the values in `x`\n",
    "    * Loop over the values in `hist` with index `i`:\n",
    "        * If x is between `x_min+i*bin_size` and `x_min+(i+1)*bin_size`, increment `hist[i].` \n",
    "        * For efficiency, try to use continue to goto the next bin and data point.\n",
    "* Return `hist` and the list corresponding of the bin edges (i.e. of `x_min+i*bin_size`).    "
   ]
  },
  {
   "cell_type": "code",
   "execution_count": 8,
   "metadata": {},
   "outputs": [],
   "source": [
    "# Solution\n",
    "def histogram(x,n_bins=10,x_min=None,x_max=None):\n",
    "    \n",
    "    #find min (w/o using the built in function)\n",
    "    if x_min is None:\n",
    "        def find_min(lst):\n",
    "            nonlocal x_min\n",
    "            x_min=lst[0]  \n",
    "            for i in range(len(lst)):\n",
    "                if lst[i]<x_min:\n",
    "                    x_min=lst[i]\n",
    "            return x_min\n",
    "            \n",
    "        find_min(x)\n",
    "    \n",
    "    # find max (w/o using the built in function)\n",
    "    if x_max is None:\n",
    "        def find_max(lst):\n",
    "            nonlocal x_max\n",
    "            x_max=lst[0]  \n",
    "            for i in range(len(lst)):\n",
    "                if lst[i]>x_max:\n",
    "                    x_max=lst[i]\n",
    "            return x_max\n",
    "            \n",
    "        find_max(x)\n",
    "    \n",
    "    #determine bin ranges\n",
    "    lst_range=x_max-x_min\n",
    "    bin_size=lst_range/n_bins\n",
    "\n",
    "    #create empty list of zeros of size n_bins called hist\n",
    "    hist=[0]*n_bins    \n",
    "\n",
    "    #increment hist[i]\n",
    "    for i in range(len(hist)):\n",
    "        for num in x:\n",
    "            if not (x_min+i*bin_size) <= num < (x_min+(i+1)*bin_size):\n",
    "                continue\n",
    "            hist[i]+=1\n",
    "\n",
    "    # bin edges\n",
    "    bin_edges=[x_min+i*bin_size for i in range(n_bins)]\n",
    "\n",
    "    return hist,bin_edges"
   ]
  },
  {
   "cell_type": "code",
   "execution_count": 9,
   "metadata": {},
   "outputs": [
    {
     "name": "stdout",
     "output_type": "stream",
     "text": [
      "[104, 107, 89, 96, 102, 98, 104, 95, 95, 110]\n",
      "[-9.997243000501063, -8.000272997644034, -6.003302994787003, -4.006332991929973, -2.009362989072943, -0.012392986215912671, 1.9845770166411167, 3.981547019498148, 5.978517022355177, 7.9754870252122085]\n"
     ]
    }
   ],
   "source": [
    "# Test your solution here\n",
    "data=generate_uniform(1000,-10,10)\n",
    "\n",
    "h,b=histogram(data,10)\n",
    "print(h)\n",
    "print(b)"
   ]
  },
  {
   "cell_type": "markdown",
   "metadata": {},
   "source": [
    "*Exercise 4:* Write a function that uses the histogram function in the previous exercise to create a text-based \"graph\". For example the output could look like the following:\n",
    "```\n",
    "[  0,  1] : ######\n",
    "[  1,  2] : #####\n",
    "[  2,  3] : ######\n",
    "[  3,  4] : ####\n",
    "[  4,  5] : ####\n",
    "[  5,  6] : ######\n",
    "[  6,  7] : #####\n",
    "[  7,  8] : ######\n",
    "[  8,  9] : ####\n",
    "[  9, 10] : #####\n",
    "```\n",
    "\n",
    "Where each line corresponds to a bin and the number of `#`'s are proportional to the value of the data in the bin. "
   ]
  },
  {
   "cell_type": "code",
   "execution_count": 10,
   "metadata": {},
   "outputs": [],
   "source": [
    "# Solution (hint: get the percentage of the whole)\n",
    "def draw_histogram(x,n_bins=10,x_min=None,x_max=None,character=\"#\",max_character_per_line=20):\n",
    "    hist,bin_edges=histogram(x,n_bins,x_min=None,x_max=None)\n",
    "\n",
    "    if x_max is None:\n",
    "        def find_max(lst):\n",
    "            nonlocal x_max\n",
    "            x_max=lst[0]  \n",
    "            for i in range(len(lst)):\n",
    "                if lst[i]>x_max:\n",
    "                    x_max=lst[i]\n",
    "            return x_max\n",
    "            \n",
    "    max_h=find_max(hist)\n",
    "    \n",
    "    per=[count/sum(hist) for count in hist]\n",
    "    \n",
    "    proportion=max_character_per_line/max(per)\n",
    "    bar_len=[round(proportion * p) for p in per]\n",
    "\n",
    "    for i in range(1, len(bin_edges)):\n",
    "        print(f\"[{bin_edges[i-1]:.1f}, {bin_edges[i]:.1f}] : {character * int(bar_len[i-1])}\")\n",
    "\n",
    "    return hist,bin_edges"
   ]
  },
  {
   "cell_type": "code",
   "execution_count": 11,
   "metadata": {},
   "outputs": [
    {
     "name": "stdout",
     "output_type": "stream",
     "text": [
      "[-10.0, -8.0] : ###################\n",
      "[-8.0, -6.0] : ###################\n",
      "[-6.0, -4.0] : ################\n",
      "[-4.0, -2.0] : #################\n",
      "[-2.0, -0.0] : ###################\n",
      "[-0.0, 2.0] : ##################\n",
      "[2.0, 4.0] : ###################\n",
      "[4.0, 6.0] : #################\n",
      "[6.0, 8.0] : #################\n"
     ]
    },
    {
     "data": {
      "text/plain": [
       "([104, 107, 89, 96, 102, 98, 104, 95, 95, 110],\n",
       " [-9.997243000501063,\n",
       "  -8.000272997644034,\n",
       "  -6.003302994787003,\n",
       "  -4.006332991929973,\n",
       "  -2.009362989072943,\n",
       "  -0.012392986215912671,\n",
       "  1.9845770166411167,\n",
       "  3.981547019498148,\n",
       "  5.978517022355177,\n",
       "  7.9754870252122085])"
      ]
     },
     "execution_count": 11,
     "metadata": {},
     "output_type": "execute_result"
    }
   ],
   "source": [
    "# Test your solution here\n",
    "draw_histogram(data,n_bins=10)"
   ]
  },
  {
   "cell_type": "markdown",
   "metadata": {},
   "source": [
    "## Functional Programming\n",
    "\n",
    "*Exercise 5:* Write a function the applies a booling function (that returns true/false) to every element in data, and return a list of indices of elements where the result was true. Use this function to find the indices of entries greater than 0.5. "
   ]
  },
  {
   "cell_type": "code",
   "execution_count": 12,
   "metadata": {},
   "outputs": [],
   "source": [
    "def greater_than_half(mylist):\n",
    "    true=[items for items in mylist if items>0.5]\n",
    "    bool=[items>0.5 for items in mylist]\n",
    "    \n",
    "    return true, bool\n",
    "    \n",
    "def where(mylist,myfunc):\n",
    "    out= []\n",
    "    \n",
    "    true,bool=myfunc(mylist)\n",
    "    out=[i for i,items in enumerate(bool) if items==True]\n",
    "\n",
    "    return out"
   ]
  },
  {
   "cell_type": "code",
   "execution_count": 13,
   "metadata": {},
   "outputs": [
    {
     "data": {
      "text/plain": [
       "[5, 6, 7]"
      ]
     },
     "execution_count": 13,
     "metadata": {},
     "output_type": "execute_result"
    }
   ],
   "source": [
    "# test\n",
    "l=[.1,.2,.3,.4,.5,.6,.7,.8]\n",
    "where(l,greater_than_half)\n",
    "#greater_than_half(l)"
   ]
  },
  {
   "cell_type": "markdown",
   "metadata": {},
   "source": [
    "*Exercise 6:* The `inrange(mymin,mymax)` function below returns a function that tests if it's input is between the specified values. Write corresponding functions that test:\n",
    "* Even\n",
    "* Odd\n",
    "* Greater than\n",
    "* Less than\n",
    "* Equal\n",
    "* Divisible by"
   ]
  },
  {
   "cell_type": "code",
   "execution_count": null,
   "metadata": {},
   "outputs": [],
   "source": [
    "def in_range(mymin,mymax):\n",
    "    def testrange(x):\n",
    "        return x<mymax and x>=mymin\n",
    "    return testrange\n",
    "\n",
    "# Examples:\n",
    "F1=inrange(0,10)\n",
    "F2=inrange(10,20)\n",
    "\n",
    "# Test of in_range\n",
    "print (F1(0), F1(1), F1(10), F1(15), F1(20))\n",
    "print (F2(0), F2(1), F2(10), F2(15), F2(20))\n",
    "\n",
    "print (\"Number of Entries passing F1:\", len(where(data,F1)))\n",
    "print (\"Number of Entries passing F2:\", len(where(data,F2)))"
   ]
  },
  {
   "cell_type": "code",
   "execution_count": 15,
   "metadata": {},
   "outputs": [],
   "source": [
    "# even\n",
    "def even(num):\n",
    "    return x%2==0\n",
    "    \n",
    "# odd\n",
    "def odd(num):\n",
    "    return x%2!=0\n",
    "    \n",
    "# greater than\n",
    "def greater_than(num1,num2):\n",
    "    return num1>num2\n",
    "    \n",
    "# less than\n",
    "def less_than(num1,num2):\n",
    "    return num1<num2\n",
    "    \n",
    "# equal\n",
    "def equal(num1,num2):\n",
    "    return num1==num2\n",
    "    \n",
    "# divisible by\n",
    "def divisible_by(num1,num2):\n",
    "    return num1%num2==0"
   ]
  },
  {
   "cell_type": "code",
   "execution_count": 16,
   "metadata": {},
   "outputs": [
    {
     "name": "stdout",
     "output_type": "stream",
     "text": [
      "is 5 even?  False\n",
      "is 5 odd?  True\n",
      "is 5 greater than 5?  False\n",
      "is 5 less than 5?  False\n",
      "is 5 equal to 5?  True\n",
      "is 5 divisible by 5?  True\n"
     ]
    }
   ],
   "source": [
    "print(\"is 5 even? \", even(5))\n",
    "print(\"is 5 odd? \", odd(5))\n",
    "print(\"is 5 greater than 5? \", greater_than(5,5))\n",
    "print(\"is 5 less than 5? \", less_than(5,5))\n",
    "print(\"is 5 equal to 5? \", equal(5,5))\n",
    "print(\"is 5 divisible by 5? \", divisible_by(5,5))"
   ]
  },
  {
   "cell_type": "markdown",
   "metadata": {},
   "source": [
    "*Exercise 7:* Repeat the previous exercise using `lambda` and the built-in python functions sum and map instead of your solution above. "
   ]
  },
  {
   "cell_type": "code",
   "execution_count": 17,
   "metadata": {},
   "outputs": [],
   "source": [
    "# even\n",
    "def even():\n",
    "    return lambda x: x%2==0\n",
    "    \n",
    "# odd\n",
    "def odd():\n",
    "    return lambda x: x%2!=0\n",
    "    \n",
    "# greater than\n",
    "def greater_than(num):\n",
    "    return lambda x: x>num\n",
    "    \n",
    "# less than\n",
    "def less_than(num):\n",
    "    return lambda x: x<num\n",
    "    \n",
    "# equal\n",
    "def equal(num):\n",
    "    return lambda x: x==num\n",
    "    \n",
    "# divisible by\n",
    "def divisible_by(num):\n",
    "    return lambda x: x%num==0"
   ]
  },
  {
   "cell_type": "code",
   "execution_count": 18,
   "metadata": {},
   "outputs": [
    {
     "name": "stdout",
     "output_type": "stream",
     "text": [
      "even:  [False, True, False, True, False, True]\n",
      "odd:  [True, False, True, False, True, False]\n",
      "greater than:  [False, False, False, False, False, True]\n",
      "less than:  [True, True, True, True, False, False]\n",
      "equal to:  [False, False, False, False, True, False]\n",
      "divisible by:  [False, False, False, False, True, False]\n"
     ]
    }
   ],
   "source": [
    "test_even = even()\n",
    "test_odd = odd()\n",
    "test_greater_than = greater_than(5)\n",
    "test_less_than = less_than(5)\n",
    "test_equal_to = equal(5)\n",
    "test_divisible_by= divisible_by(5)\n",
    "\n",
    "num_list=[1,2,3,4,5,6]\n",
    "\n",
    "print(\"even: \",list(map(test_even, num_list))) \n",
    "print(\"odd: \",list(map(test_odd, num_list))) \n",
    "print(\"greater than: \",list(map(test_greater_than, num_list))) \n",
    "print(\"less than: \",list(map(test_less_than, num_list)))  \n",
    "print(\"equal to: \",list(map(test_equal_to, num_list))) \n",
    "print(\"divisible by: \",list(map(test_divisible_by, num_list)))"
   ]
  },
  {
   "cell_type": "markdown",
   "metadata": {},
   "source": [
    "## Monte Carlo\n",
    "\n",
    "*Exercise 7:* Write a \"generator\" function called `generate_function(func,x_min,x_max,N)`, that instead of generating a flat distribution, generates a distribution with functional form coded in `func`. Note that `func` will always be > 0.  \n",
    "\n",
    "Use the test function below and your histogramming functions above to demonstrate that your generator is working properly.\n",
    "\n",
    "Hint: A simple, but slow, solution is to a draw random number `test_x` within the specified range and another number `p` between the `min` and `max` of the function (which you will have to determine). If `p<=function(test_x)`, then place `test_x` on the output. If not, repeat the process, drawing two new numbers. Repeat until you have the specified number of generated numbers, `N`. For this problem, it's OK to determine the `min` and `max` by numerically sampling the function.  "
   ]
  },
  {
   "cell_type": "code",
   "execution_count": 19,
   "metadata": {},
   "outputs": [],
   "source": [
    "def generate_function(func,x_min,x_max,N=1000):\n",
    "    out = list()\n",
    "\n",
    "    #num=0\n",
    "    while len(out)<N:\n",
    "        test_x=random.uniform(x_min,x_max)\n",
    "        p=random.uniform(0, max(func(x) for x in range(x_min, x_max)))\n",
    "\n",
    "        if p <= func(test_x):\n",
    "            out.append(test_x)\n",
    "    #for item in out:\n",
    "    #    num+=1\n",
    "    #print(\"count\",num)\n",
    "            \n",
    "    return out"
   ]
  },
  {
   "cell_type": "code",
   "execution_count": 20,
   "metadata": {},
   "outputs": [
    {
     "name": "stdout",
     "output_type": "stream",
     "text": [
      "[-20.0, -17.5] : ####################\n",
      "[-17.5, -15.0] : ###################\n",
      "[-15.0, -12.5] : ##############\n",
      "[-12.5, -10.0] : #########\n",
      "[-10.0, -7.5] : ########\n",
      "[-7.5, -5.0] : #####\n",
      "[-5.0, -2.5] : ##\n",
      "[-2.5, 0.0] : #\n",
      "[0.0, 2.5] : ###\n",
      "[2.5, 5.0] : #####\n",
      "[5.0, 7.5] : ######\n",
      "[7.5, 10.0] : ##########\n",
      "[10.0, 12.5] : #############\n",
      "[12.5, 15.0] : #################\n",
      "[15.0, 17.5] : ###################\n"
     ]
    }
   ],
   "source": [
    "# A test function\n",
    "def test_func(x,a=1,b=1):\n",
    "    return abs(a*x+b)\n",
    "\n",
    "lst=generate_function(test_func,-20,20,1000)\n",
    "h,b=draw_histogram(lst,n_bins=16,x_min=None,x_max=None,character=\"#\",max_character_per_line=20)"
   ]
  },
  {
   "cell_type": "markdown",
   "metadata": {},
   "source": [
    "*Exercise 8:* Use your function to generate 1000 numbers that are normal distributed, using the `gaussian` function below. Confirm the mean and variance of the data is close to the mean and variance you specify when building the Gaussian. Histogram the data. "
   ]
  },
  {
   "cell_type": "code",
   "execution_count": 21,
   "metadata": {},
   "outputs": [],
   "source": [
    "import math\n",
    "\n",
    "def gaussian(mean, sigma):\n",
    "    def f(x):\n",
    "        return math.exp(-((x-mean)**2)/(2*sigma**2))/math.sqrt(math.pi*sigma)\n",
    "    return f\n",
    "\n",
    "# Example Instantiation\n",
    "g1=gaussian(0,1)\n",
    "g2=gaussian(10,3)"
   ]
  },
  {
   "cell_type": "code",
   "execution_count": 22,
   "metadata": {},
   "outputs": [
    {
     "name": "stdout",
     "output_type": "stream",
     "text": [
      "[-3.1, -2.8] : #\n",
      "[-2.8, -2.5] : #\n",
      "[-2.5, -2.2] : ##\n",
      "[-2.2, -1.8] : ####\n",
      "[-1.8, -1.5] : #####\n",
      "[-1.5, -1.2] : #########\n",
      "[-1.2, -0.9] : #############\n",
      "[-0.9, -0.6] : ###############\n",
      "[-0.6, -0.3] : ####################\n",
      "[-0.3, 0.0] : ####################\n",
      "[0.0, 0.3] : ##################\n",
      "[0.3, 0.7] : #################\n",
      "[0.7, 1.0] : ###################\n",
      "[1.0, 1.3] : ##########\n",
      "[1.3, 1.6] : ######\n",
      "[1.6, 1.9] : #####\n",
      "[1.9, 2.2] : ###\n",
      "[2.2, 2.5] : #\n",
      "[2.5, 2.8] : #\n"
     ]
    }
   ],
   "source": [
    "lst_g1=generate_function(g1,-10,10,N=1000)\n",
    "h,b=draw_histogram(lst_g1,n_bins=20,x_min=None,x_max=None,character=\"#\",max_character_per_line=20)"
   ]
  },
  {
   "cell_type": "code",
   "execution_count": 23,
   "metadata": {},
   "outputs": [
    {
     "name": "stdout",
     "output_type": "stream",
     "text": [
      "[-3.1, -2.7] : #\n",
      "[-2.7, -2.3] : #\n",
      "[-2.3, -1.8] : ####\n",
      "[-1.8, -1.4] : #######\n",
      "[-1.4, -1.0] : ##########\n",
      "[-1.0, -0.6] : ###############\n",
      "[-0.6, -0.2] : ####################\n",
      "[-0.2, 0.2] : ###################\n",
      "[0.2, 0.7] : #################\n",
      "[0.7, 1.1] : #################\n",
      "[1.1, 1.5] : #########\n",
      "[1.5, 1.9] : ####\n",
      "[1.9, 2.3] : ###\n",
      "[2.3, 2.7] : #\n"
     ]
    }
   ],
   "source": [
    "lst_g2=generate_function(g2,-15,15,N=1000)\n",
    "h,b=draw_histogram(lst_g1,n_bins=15,x_min=None,x_max=None,character=\"#\",max_character_per_line=20)"
   ]
  },
  {
   "cell_type": "markdown",
   "metadata": {},
   "source": [
    "*Exercise 9:* Combine your `generate_function`, `where`, and `in_range` functions above to create an integrate function. Use your integrate function to show that approximately 68% of Normal distribution is within one variance.\n",
    "\n",
    "def integrate(func, x_min, x_max, n_points=1000):\n",
    "    \n",
    "    return integral"
   ]
  },
  {
   "cell_type": "code",
   "execution_count": 25,
   "metadata": {},
   "outputs": [],
   "source": [
    "import random\n",
    "\n",
    "def in_range(mymin, mymax):\n",
    "    def testrange(x):\n",
    "        return x < mymax and x >= mymin\n",
    "    return testrange\n",
    "\n",
    "def where(mylist, myfunc):\n",
    "    out=[]\n",
    "    bool_list=[myfunc(item) for item in mylist]\n",
    "    for i, item in enumerate(bool_list):\n",
    "        if item:\n",
    "            out.append(i)\n",
    "    return out\n",
    "\n",
    "def generate_function(func, x_min, x_max, N=1000):\n",
    "    out=[]\n",
    "    while len(out)<N:\n",
    "        test_x=random.uniform(x_min, x_max)\n",
    "        p=random.uniform(0,max(func(x) for x in range(x_min,x_max)))\n",
    "        if p<=func(test_x):\n",
    "            out.append(test_x)\n",
    "    return out"
   ]
  },
  {
   "cell_type": "code",
   "execution_count": 26,
   "metadata": {},
   "outputs": [],
   "source": [
    "def integrate(func, x_min, x_max, N=1000):\n",
    "    \n",
    "    lst=generate_function(func,x_min,x_max,N)\n",
    "    step=in_range(x_min,x_max)\n",
    "    i=where(lst, step)\n",
    "    integral=len(i)/N\n",
    "    \n",
    "    return integral"
   ]
  },
  {
   "cell_type": "code",
   "execution_count": 29,
   "metadata": {},
   "outputs": [
    {
     "name": "stdout",
     "output_type": "stream",
     "text": [
      "Computed integral: 1.0\n"
     ]
    }
   ],
   "source": [
    "#test function\n",
    "def f(x):\n",
    "    return x**2\n",
    "    \n",
    "print(\"Computed integral:\",integrate(f,0,1,1000))"
   ]
  },
  {
   "cell_type": "code",
   "execution_count": null,
   "metadata": {},
   "outputs": [],
   "source": []
  },
  {
   "cell_type": "code",
   "execution_count": null,
   "metadata": {},
   "outputs": [],
   "source": []
  }
 ],
 "metadata": {
  "kernelspec": {
   "display_name": "Python 3 (ipykernel)",
   "language": "python",
   "name": "python3"
  },
  "language_info": {
   "codemirror_mode": {
    "name": "ipython",
    "version": 3
   },
   "file_extension": ".py",
   "mimetype": "text/x-python",
   "name": "python",
   "nbconvert_exporter": "python",
   "pygments_lexer": "ipython3",
   "version": "3.10.12"
  }
 },
 "nbformat": 4,
 "nbformat_minor": 4
}
