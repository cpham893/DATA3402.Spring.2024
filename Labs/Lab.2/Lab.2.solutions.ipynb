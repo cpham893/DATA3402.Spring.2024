{
 "cells": [
  {
   "cell_type": "markdown",
   "metadata": {},
   "source": [
    "Christine Pham\n",
    "1001705879"
   ]
  },
  {
   "cell_type": "markdown",
   "metadata": {},
   "source": [
    "## Lab 2- Tic Tac Toe\n",
    "\n",
    "In this lab your will build a n x n Tic Tac Toe game. As you do the exercises, make sure your solutions work for any size Tic Tac Toe game. "
   ]
  },
  {
   "cell_type": "markdown",
   "metadata": {},
   "source": [
    "*Exercise 1:* Write a function that creates an n by n matrix (of list of lists) which will represent the state of a Tie Tac Toe game. Let 0, 1, and 2 represent empty, \"X\", and \"O\", respectively.\n"
   ]
  },
  {
   "cell_type": "code",
   "execution_count": 57,
   "metadata": {},
   "outputs": [],
   "source": [
    "player_1=1\n",
    "player_2=2\n",
    "empty=0\n",
    "\n",
    "def tictactoe_matrix(size=3):    \n",
    "    board=[[empty]*size for i in range(size)]\n",
    "    return board"
   ]
  },
  {
   "cell_type": "code",
   "execution_count": 58,
   "metadata": {},
   "outputs": [
    {
     "data": {
      "text/plain": [
       "[[0, 0, 0], [0, 0, 0], [0, 0, 0]]"
      ]
     },
     "execution_count": 58,
     "metadata": {},
     "output_type": "execute_result"
    }
   ],
   "source": [
    "tictactoe_matrix()"
   ]
  },
  {
   "cell_type": "markdown",
   "metadata": {},
   "source": [
    "*Exercise 2:* Write a function that takes 2 integers `n` and `m` as input and draws a `n` by `m` game board. For example the following is a 3x3 board:\n",
    "```\n",
    "   --- --- --- \n",
    "  |   |   |   | \n",
    "   --- --- ---  \n",
    "  |   |   |   | \n",
    "   --- --- ---  \n",
    "  |   |   |   | \n",
    "   --- --- --- \n",
    "   ```"
   ]
  },
  {
   "cell_type": "code",
   "execution_count": 59,
   "metadata": {},
   "outputs": [],
   "source": [
    "def game_board(height, width):\n",
    "    if height<1 or width<1:\n",
    "        print(\"height and width must be positive integers\")\n",
    "\n",
    "    else:\n",
    "        for i in range(height):\n",
    "            print(width * \" ---\")\n",
    "            print(width * \"|   \" + \"|\")\n",
    "        print(width * \" ---\")"
   ]
  },
  {
   "cell_type": "code",
   "execution_count": 60,
   "metadata": {},
   "outputs": [
    {
     "name": "stdout",
     "output_type": "stream",
     "text": [
      " --- --- ---\n",
      "|   |   |   |\n",
      " --- --- ---\n",
      "|   |   |   |\n",
      " --- --- ---\n",
      "|   |   |   |\n",
      " --- --- ---\n",
      "|   |   |   |\n",
      " --- --- ---\n",
      "|   |   |   |\n",
      " --- --- ---\n",
      "|   |   |   |\n",
      " --- --- ---\n"
     ]
    }
   ],
   "source": [
    "game_board(6,3)"
   ]
  },
  {
   "cell_type": "markdown",
   "metadata": {},
   "source": [
    "*Exercise 3:* Modify exercise 2, so that it takes a matrix of the form from exercise 1 and draws a tic-tac-tie board with \"X\"s and \"O\"s.  "
   ]
  },
  {
   "cell_type": "code",
   "execution_count": 61,
   "metadata": {},
   "outputs": [],
   "source": [
    "def tictactoe_board(board):\n",
    "    height=len(board)\n",
    "    width=len(board[0])\n",
    "    \n",
    "    if height<1 or width<1:\n",
    "        print(\"height and width must be positive integers\")\n",
    "\n",
    "    else:\n",
    "        for i in range(height):\n",
    "            print(width * \" ---\")\n",
    "\n",
    "            border=\"|\"\n",
    "            for j in range(width):\n",
    "                if board[i][j]==1:\n",
    "                    border += \" X \"\n",
    "                elif board[i][j]==2:\n",
    "                    border += \" O \"\n",
    "                else:\n",
    "                    border += \"   \"\n",
    "                border += \"|\"\n",
    "            print(border)\n",
    "            \n",
    "        print(width * \" ---\")"
   ]
  },
  {
   "cell_type": "code",
   "execution_count": 62,
   "metadata": {},
   "outputs": [
    {
     "name": "stdout",
     "output_type": "stream",
     "text": [
      " --- --- ---\n",
      "| X | O |   |\n",
      " --- --- ---\n",
      "| O | X |   |\n",
      " --- --- ---\n",
      "|   |   | X |\n",
      " --- --- ---\n"
     ]
    }
   ],
   "source": [
    "matrix=[[1,2,0],[2,1,0],[0,0,1]]\n",
    "\n",
    "tictactoe_board(matrix)"
   ]
  },
  {
   "cell_type": "markdown",
   "metadata": {},
   "source": [
    "*Exercise 4:* Write a function that takes a `n` by `n` matrix representing a tic-tac-toe game, and returns -1, 0, 1, or 2 indicating the game is incomplete, the game is a draw, player 1 has won, or player 2 has one, respectively. Here are some example inputs you can use to test your code:"
   ]
  },
  {
   "cell_type": "code",
   "execution_count": 63,
   "metadata": {},
   "outputs": [],
   "source": [
    "winner_is_2 = [[2, 2, 0],\n",
    "\t[2, 1, 0],\n",
    "\t[2, 1, 1]]\n",
    "\n",
    "winner_is_1 = [[1, 2, 0],\n",
    "\t[2, 1, 0],\n",
    "\t[2, 1, 1]]\n",
    "\n",
    "winner_is_also_1 = [[0, 1, 0],\n",
    "\t[2, 1, 0],\n",
    "\t[2, 1, 1]]\n",
    "\n",
    "no_winner = [[1, 2, 0],\n",
    "\t[2, 1, 0],\n",
    "\t[2, 1, 2]]\n",
    "\n",
    "also_no_winner = [[1, 2, 0],\n",
    "\t[2, 1, 0],\n",
    "\t[2, 1, 0]]\n",
    "\n",
    "no_winner_comp = [[1, 2, 2],\n",
    "                \t[2, 1, 1],\n",
    "                \t[2, 1, 2]]"
   ]
  },
  {
   "cell_type": "code",
   "execution_count": 64,
   "metadata": {},
   "outputs": [],
   "source": [
    "def extract_rows(board):\n",
    "    length=len(board)\n",
    "    height=len(board[0])\n",
    "\n",
    "    if length!=height:\n",
    "        print(\"not a square matrix\")\n",
    "        return None\n",
    "        \n",
    "    r_M=[board[i] for i in range(length)]\n",
    "                \n",
    "    return r_M\n",
    "\n",
    "def extract_columns(board):\n",
    "    length=len(board)\n",
    "    height=len(board[0])\n",
    "\n",
    "    if length!=height:\n",
    "        print(\"not a square matrix\")\n",
    "        return None\n",
    "\n",
    "    c_M=[]\n",
    "    for i in range(height):\n",
    "        c=[board[j][i] for j in range(height)]\n",
    "        c_M.append(c)\n",
    "        \n",
    "    return c_M\n",
    "\n",
    "def extract_diags(board):\n",
    "    n=len(board)\n",
    "    m=len(board[0])\n",
    "\n",
    "    if n!=m:\n",
    "        print(\"not a square matrix\")\n",
    "\n",
    "    diag_1=[board[i][i] for i in range(n)]\n",
    "    diag_2=[board[i][n-i-1] for i in range(n)]\n",
    "\n",
    "    return [diag_1,diag_2]\n",
    "\n",
    "def get_all_paths(board):\n",
    "    return extract_columns(board)+extract_rows(board)+extract_diags(board)\n",
    "\n",
    "def check_completion(board):\n",
    "    paths = get_all_paths(board)\n",
    "    \n",
    "    for path in paths:\n",
    "        if all(cell == 1 for cell in path):\n",
    "            print(\"Player 1 Wins\")\n",
    "            return 1  \n",
    "        elif all(cell == 2 for cell in path):\n",
    "            print(\"Player 2 Wins\")\n",
    "            return 2  \n",
    "\n",
    "    if all(cell != 0 for row in board for cell in row):\n",
    "        print(\"Draw\")\n",
    "        return 0 \n",
    "\n",
    "    print(\"Incomplete Game\")\n",
    "    return -1"
   ]
  },
  {
   "cell_type": "code",
   "execution_count": 65,
   "metadata": {},
   "outputs": [
    {
     "name": "stdout",
     "output_type": "stream",
     "text": [
      "Player 2 Wins\n",
      "2\n",
      "Player 1 Wins\n",
      "1\n",
      "Player 1 Wins\n",
      "1\n",
      "Incomplete Game\n",
      "-1\n",
      "Incomplete Game\n",
      "-1\n",
      "Draw\n",
      "0\n"
     ]
    }
   ],
   "source": [
    "print(check_completion(winner_is_2))\n",
    "print(check_completion(winner_is_1))\n",
    "print(check_completion(winner_is_also_1))\n",
    "print(check_completion(no_winner))\n",
    "print(check_completion(also_no_winner))\n",
    "print(check_completion(no_winner_comp))"
   ]
  },
  {
   "cell_type": "markdown",
   "metadata": {},
   "source": [
    "*Exercise 5:* Write a function that takes a game board, player number, and `(x,y)` coordinates and places \"X\" or \"O\" in the correct location of the game board. Make sure that you only allow filling previously empty locations. Return `True` or `False` to indicate successful placement of \"X\" or \"O\"."
   ]
  },
  {
   "cell_type": "code",
   "execution_count": 66,
   "metadata": {},
   "outputs": [],
   "source": [
    "player_1=1\n",
    "player_2=2\n",
    "empty=0\n",
    "\n",
    "def place_piece(board,player,coordinate):\n",
    "    x,y=coordinate\n",
    "    \n",
    "    if board[x][y]==empty:\n",
    "        board[x][y]=player\n",
    "        return True\n",
    "        \n",
    "    else:\n",
    "        return False    "
   ]
  },
  {
   "cell_type": "code",
   "execution_count": 67,
   "metadata": {},
   "outputs": [
    {
     "data": {
      "text/plain": [
       "True"
      ]
     },
     "execution_count": 67,
     "metadata": {},
     "output_type": "execute_result"
    }
   ],
   "source": [
    "new_board=tictactoe_matrix()\n",
    "\n",
    "place_piece(new_board,player_1,(1,2))"
   ]
  },
  {
   "cell_type": "markdown",
   "metadata": {},
   "source": [
    "Exercise 6: Modify Exercise 4 to show column and row labels so that players can specify location using \"A2\" or \"C1\"."
   ]
  },
  {
   "cell_type": "code",
   "execution_count": 68,
   "metadata": {},
   "outputs": [],
   "source": [
    "def label(board):\n",
    "    size=len(board)\n",
    "\n",
    "    row_names=list(\"ABCDEFGHIJKLMNOPQRSTUVWXYZ\")\n",
    "    row_map=dict(zip(row_names,range(size)))\n",
    "\n",
    "    column_names=list(map(str,range(1,size+1)))\n",
    "    column_map=dict(zip(column_names,range(size)))\n",
    "\n",
    "    return column_names,row_names\n",
    "\n",
    "def tictactoe_board_coor(board):\n",
    "    column_names,row_names=label(board)\n",
    "    height=len(board)\n",
    "    width=len(board[0])\n",
    "    \n",
    "    if height<1 or width<1:\n",
    "        print(\"height and width must be positive integers\")\n",
    "\n",
    "    else:\n",
    "        for j in range(width):\n",
    "            print(\"   \" + column_names[j],end=\"\") \n",
    "        print(\" \")\n",
    "        \n",
    "        for i in range(height):\n",
    "            print(\"  \" + width * \" ---\")\n",
    "            border=row_names[i] + \" |\"\n",
    "            \n",
    "            for j in range(width):\n",
    "                if board[i][j]==1:\n",
    "                    border += \" X \"\n",
    "                elif board[i][j]==2:\n",
    "                    border += \" O \"\n",
    "                else:\n",
    "                    border += \"   \"\n",
    "                border += \"|\"\n",
    "\n",
    "            print(border)\n",
    "\n",
    "        print(\"  \" + width * \" ---\")"
   ]
  },
  {
   "cell_type": "code",
   "execution_count": 69,
   "metadata": {},
   "outputs": [
    {
     "name": "stdout",
     "output_type": "stream",
     "text": [
      "   1   2   3 \n",
      "   --- --- ---\n",
      "A |   |   |   |\n",
      "   --- --- ---\n",
      "B |   |   | X |\n",
      "   --- --- ---\n",
      "C |   |   |   |\n",
      "   --- --- ---\n"
     ]
    }
   ],
   "source": [
    "tictactoe_board_coor(new_board)"
   ]
  },
  {
   "cell_type": "markdown",
   "metadata": {},
   "source": [
    "*Exercise 7:* Write a function that takes a board, player number, and location specified as in exercise 6 and then calls exercise 5 to correctly modify the board.  "
   ]
  },
  {
   "cell_type": "code",
   "execution_count": 70,
   "metadata": {},
   "outputs": [],
   "source": [
    "def convert_loc(board,location):\n",
    "    column_names,row_names=label(board)\n",
    "\n",
    "    size=len(board)\n",
    "    row_map=dict(zip(row_names,range(size)))\n",
    "    column_map=dict(zip(column_names,range(size)))\n",
    "    \n",
    "    if not str(location):\n",
    "        print(\"Location must be string.\")\n",
    "        return False\n",
    "    \n",
    "    if len(location)!=2:\n",
    "        print(\"Location must be 2 characters.\")\n",
    "        return False\n",
    "    \n",
    "    row=location[0].upper()\n",
    "    col=location[1:]\n",
    "    \n",
    "    if not row in row_map:\n",
    "        print(\"row does not exist\")\n",
    "        return False\n",
    "\n",
    "    elif not col in column_names:\n",
    "        print(\"column does not exist\")\n",
    "        return False\n",
    "\n",
    "    return row_map[row],column_map[col]\n",
    "\n",
    "def play_ttt(board,player,location): \n",
    "    coordinate=convert_loc(board,location)\n",
    "    \n",
    "    place_piece(board,player,coordinate)\n",
    "    tictactoe_board_coor(board)  "
   ]
  },
  {
   "cell_type": "code",
   "execution_count": 71,
   "metadata": {},
   "outputs": [
    {
     "name": "stdout",
     "output_type": "stream",
     "text": [
      "   1   2   3 \n",
      "   --- --- ---\n",
      "A |   |   |   |\n",
      "   --- --- ---\n",
      "B |   |   |   |\n",
      "   --- --- ---\n",
      "C |   | X |   |\n",
      "   --- --- ---\n"
     ]
    }
   ],
   "source": [
    "matrix=tictactoe_matrix()\n",
    "play_ttt(matrix,player_1,\"C2\")"
   ]
  },
  {
   "cell_type": "markdown",
   "metadata": {},
   "source": [
    "*Exercise 8:* Write a function is called with a board and player number, takes input from the player using python's `input`, and modifies the board using your function from exercise 7. Note that you should keep asking for input until you have gotten a valid input that results in a valid move."
   ]
  },
  {
   "cell_type": "code",
   "execution_count": 72,
   "metadata": {},
   "outputs": [],
   "source": [
    "def take_move(board, player):\n",
    "    while True:\n",
    "        location = input(\"Input location:\")\n",
    "        coordinate = convert_loc(board, location)\n",
    "        \n",
    "        if coordinate:\n",
    "            if place_piece(board, player, coordinate):\n",
    "                play_ttt(board, player, location)\n",
    "                break\n",
    "            else:\n",
    "                print(\"Spot already taken. Choose a new spot.\")\n",
    "                play_ttt(board, player, location)\n",
    "        else:\n",
    "            print(\"Invalid location. Please try again.\")"
   ]
  },
  {
   "cell_type": "code",
   "execution_count": 73,
   "metadata": {},
   "outputs": [
    {
     "name": "stdin",
     "output_type": "stream",
     "text": [
      "Input location: a1\n"
     ]
    },
    {
     "name": "stdout",
     "output_type": "stream",
     "text": [
      "   1   2   3 \n",
      "   --- --- ---\n",
      "A | X |   |   |\n",
      "   --- --- ---\n",
      "B |   |   |   |\n",
      "   --- --- ---\n",
      "C |   |   |   |\n",
      "   --- --- ---\n"
     ]
    }
   ],
   "source": [
    "new_M=tictactoe_matrix()\n",
    "\n",
    "take_move(new_M,player_1)"
   ]
  },
  {
   "cell_type": "code",
   "execution_count": 74,
   "metadata": {},
   "outputs": [
    {
     "name": "stdin",
     "output_type": "stream",
     "text": [
      "Input location: a1\n"
     ]
    },
    {
     "name": "stdout",
     "output_type": "stream",
     "text": [
      "Spot already taken. Choose a new spot.\n",
      "   1   2   3 \n",
      "   --- --- ---\n",
      "A | X |   |   |\n",
      "   --- --- ---\n",
      "B |   |   |   |\n",
      "   --- --- ---\n",
      "C |   |   |   |\n",
      "   --- --- ---\n"
     ]
    },
    {
     "name": "stdin",
     "output_type": "stream",
     "text": [
      "Input location: a2\n"
     ]
    },
    {
     "name": "stdout",
     "output_type": "stream",
     "text": [
      "   1   2   3 \n",
      "   --- --- ---\n",
      "A | X | O |   |\n",
      "   --- --- ---\n",
      "B |   |   |   |\n",
      "   --- --- ---\n",
      "C |   |   |   |\n",
      "   --- --- ---\n"
     ]
    }
   ],
   "source": [
    "take_move(new_M,player_2)"
   ]
  },
  {
   "cell_type": "markdown",
   "metadata": {},
   "source": [
    "*Exercise 9:* Use all of the previous exercises to implement a full tic-tac-toe game, where an appropriate board is drawn, 2 players are repeatedly asked for a location coordinates of where they wish to place a mark, and the game status is checked until a player wins or a draw occurs."
   ]
  },
  {
   "cell_type": "code",
   "execution_count": 75,
   "metadata": {},
   "outputs": [],
   "source": [
    "def tictactoe_game(size=3):\n",
    "  print(\"Welcome to Tic-Tac-Toe\")\n",
    "  print(\"-------------------------\")\n",
    "\n",
    "  board=tictactoe_matrix(size) # make a game board\n",
    "  \n",
    "  player=player_1 #start with player 1\n",
    "\n",
    "  tictactoe_board_coor(board) # draw board\n",
    "\n",
    "  game_won=check_completion(board)\n",
    "  while game_won==-1:\n",
    "\n",
    "    print(f\" \\nPlayer {player} move:\") # make move\n",
    "    take_move(board,player)\n",
    "\n",
    "    game_won=check_completion(board) # check for status of game\n",
    "      \n",
    "    if player==player_1: # switch players\n",
    "      player=player_2\n",
    "    else:\n",
    "      player=player_1"
   ]
  },
  {
   "cell_type": "code",
   "execution_count": 76,
   "metadata": {
    "scrolled": true
   },
   "outputs": [
    {
     "name": "stdout",
     "output_type": "stream",
     "text": [
      "Welcome to Tic-Tac-Toe\n",
      "-------------------------\n",
      "   1   2   3 \n",
      "   --- --- ---\n",
      "A |   |   |   |\n",
      "   --- --- ---\n",
      "B |   |   |   |\n",
      "   --- --- ---\n",
      "C |   |   |   |\n",
      "   --- --- ---\n",
      "Incomplete Game\n",
      " \n",
      "Player 1 move:\n"
     ]
    },
    {
     "name": "stdin",
     "output_type": "stream",
     "text": [
      "Input location: a1\n"
     ]
    },
    {
     "name": "stdout",
     "output_type": "stream",
     "text": [
      "   1   2   3 \n",
      "   --- --- ---\n",
      "A | X |   |   |\n",
      "   --- --- ---\n",
      "B |   |   |   |\n",
      "   --- --- ---\n",
      "C |   |   |   |\n",
      "   --- --- ---\n",
      "Incomplete Game\n",
      " \n",
      "Player 2 move:\n"
     ]
    },
    {
     "name": "stdin",
     "output_type": "stream",
     "text": [
      "Input location: a1\n"
     ]
    },
    {
     "name": "stdout",
     "output_type": "stream",
     "text": [
      "Spot already taken. Choose a new spot.\n",
      "   1   2   3 \n",
      "   --- --- ---\n",
      "A | X |   |   |\n",
      "   --- --- ---\n",
      "B |   |   |   |\n",
      "   --- --- ---\n",
      "C |   |   |   |\n",
      "   --- --- ---\n"
     ]
    },
    {
     "name": "stdin",
     "output_type": "stream",
     "text": [
      "Input location: b1\n"
     ]
    },
    {
     "name": "stdout",
     "output_type": "stream",
     "text": [
      "   1   2   3 \n",
      "   --- --- ---\n",
      "A | X |   |   |\n",
      "   --- --- ---\n",
      "B | O |   |   |\n",
      "   --- --- ---\n",
      "C |   |   |   |\n",
      "   --- --- ---\n",
      "Incomplete Game\n",
      " \n",
      "Player 1 move:\n"
     ]
    },
    {
     "name": "stdin",
     "output_type": "stream",
     "text": [
      "Input location: a2\n"
     ]
    },
    {
     "name": "stdout",
     "output_type": "stream",
     "text": [
      "   1   2   3 \n",
      "   --- --- ---\n",
      "A | X | X |   |\n",
      "   --- --- ---\n",
      "B | O |   |   |\n",
      "   --- --- ---\n",
      "C |   |   |   |\n",
      "   --- --- ---\n",
      "Incomplete Game\n",
      " \n",
      "Player 2 move:\n"
     ]
    },
    {
     "name": "stdin",
     "output_type": "stream",
     "text": [
      "Input location: b2\n"
     ]
    },
    {
     "name": "stdout",
     "output_type": "stream",
     "text": [
      "   1   2   3 \n",
      "   --- --- ---\n",
      "A | X | X |   |\n",
      "   --- --- ---\n",
      "B | O | O |   |\n",
      "   --- --- ---\n",
      "C |   |   |   |\n",
      "   --- --- ---\n",
      "Incomplete Game\n",
      " \n",
      "Player 1 move:\n"
     ]
    },
    {
     "name": "stdin",
     "output_type": "stream",
     "text": [
      "Input location: a3\n"
     ]
    },
    {
     "name": "stdout",
     "output_type": "stream",
     "text": [
      "   1   2   3 \n",
      "   --- --- ---\n",
      "A | X | X | X |\n",
      "   --- --- ---\n",
      "B | O | O |   |\n",
      "   --- --- ---\n",
      "C |   |   |   |\n",
      "   --- --- ---\n",
      "Player 1 Wins\n"
     ]
    }
   ],
   "source": [
    "tictactoe_game()"
   ]
  },
  {
   "cell_type": "markdown",
   "metadata": {},
   "source": [
    "*Exercise 10:* Test that your game works for 5x5 Tic Tac Toe.  "
   ]
  },
  {
   "cell_type": "code",
   "execution_count": 78,
   "metadata": {},
   "outputs": [
    {
     "name": "stdout",
     "output_type": "stream",
     "text": [
      "Welcome to Tic-Tac-Toe\n",
      "-------------------------\n",
      "   1   2   3   4 \n",
      "   --- --- --- ---\n",
      "A |   |   |   |   |\n",
      "   --- --- --- ---\n",
      "B |   |   |   |   |\n",
      "   --- --- --- ---\n",
      "C |   |   |   |   |\n",
      "   --- --- --- ---\n",
      "D |   |   |   |   |\n",
      "   --- --- --- ---\n",
      "Incomplete Game\n",
      " \n",
      "Player 1 move:\n"
     ]
    },
    {
     "name": "stdin",
     "output_type": "stream",
     "text": [
      "Input location: a1\n"
     ]
    },
    {
     "name": "stdout",
     "output_type": "stream",
     "text": [
      "   1   2   3   4 \n",
      "   --- --- --- ---\n",
      "A | X |   |   |   |\n",
      "   --- --- --- ---\n",
      "B |   |   |   |   |\n",
      "   --- --- --- ---\n",
      "C |   |   |   |   |\n",
      "   --- --- --- ---\n",
      "D |   |   |   |   |\n",
      "   --- --- --- ---\n",
      "Incomplete Game\n",
      " \n",
      "Player 2 move:\n"
     ]
    },
    {
     "name": "stdin",
     "output_type": "stream",
     "text": [
      "Input location: d1\n"
     ]
    },
    {
     "name": "stdout",
     "output_type": "stream",
     "text": [
      "   1   2   3   4 \n",
      "   --- --- --- ---\n",
      "A | X |   |   |   |\n",
      "   --- --- --- ---\n",
      "B |   |   |   |   |\n",
      "   --- --- --- ---\n",
      "C |   |   |   |   |\n",
      "   --- --- --- ---\n",
      "D | O |   |   |   |\n",
      "   --- --- --- ---\n",
      "Incomplete Game\n",
      " \n",
      "Player 1 move:\n"
     ]
    },
    {
     "name": "stdin",
     "output_type": "stream",
     "text": [
      "Input location: b2\n"
     ]
    },
    {
     "name": "stdout",
     "output_type": "stream",
     "text": [
      "   1   2   3   4 \n",
      "   --- --- --- ---\n",
      "A | X |   |   |   |\n",
      "   --- --- --- ---\n",
      "B |   | X |   |   |\n",
      "   --- --- --- ---\n",
      "C |   |   |   |   |\n",
      "   --- --- --- ---\n",
      "D | O |   |   |   |\n",
      "   --- --- --- ---\n",
      "Incomplete Game\n",
      " \n",
      "Player 2 move:\n"
     ]
    },
    {
     "name": "stdin",
     "output_type": "stream",
     "text": [
      "Input location: d2\n"
     ]
    },
    {
     "name": "stdout",
     "output_type": "stream",
     "text": [
      "   1   2   3   4 \n",
      "   --- --- --- ---\n",
      "A | X |   |   |   |\n",
      "   --- --- --- ---\n",
      "B |   | X |   |   |\n",
      "   --- --- --- ---\n",
      "C |   |   |   |   |\n",
      "   --- --- --- ---\n",
      "D | O | O |   |   |\n",
      "   --- --- --- ---\n",
      "Incomplete Game\n",
      " \n",
      "Player 1 move:\n"
     ]
    },
    {
     "name": "stdin",
     "output_type": "stream",
     "text": [
      "Input location: c3\n"
     ]
    },
    {
     "name": "stdout",
     "output_type": "stream",
     "text": [
      "   1   2   3   4 \n",
      "   --- --- --- ---\n",
      "A | X |   |   |   |\n",
      "   --- --- --- ---\n",
      "B |   | X |   |   |\n",
      "   --- --- --- ---\n",
      "C |   |   | X |   |\n",
      "   --- --- --- ---\n",
      "D | O | O |   |   |\n",
      "   --- --- --- ---\n",
      "Incomplete Game\n",
      " \n",
      "Player 2 move:\n"
     ]
    },
    {
     "name": "stdin",
     "output_type": "stream",
     "text": [
      "Input location: d3\n"
     ]
    },
    {
     "name": "stdout",
     "output_type": "stream",
     "text": [
      "   1   2   3   4 \n",
      "   --- --- --- ---\n",
      "A | X |   |   |   |\n",
      "   --- --- --- ---\n",
      "B |   | X |   |   |\n",
      "   --- --- --- ---\n",
      "C |   |   | X |   |\n",
      "   --- --- --- ---\n",
      "D | O | O | O |   |\n",
      "   --- --- --- ---\n",
      "Incomplete Game\n",
      " \n",
      "Player 1 move:\n"
     ]
    },
    {
     "name": "stdin",
     "output_type": "stream",
     "text": [
      "Input location: d4\n"
     ]
    },
    {
     "name": "stdout",
     "output_type": "stream",
     "text": [
      "   1   2   3   4 \n",
      "   --- --- --- ---\n",
      "A | X |   |   |   |\n",
      "   --- --- --- ---\n",
      "B |   | X |   |   |\n",
      "   --- --- --- ---\n",
      "C |   |   | X |   |\n",
      "   --- --- --- ---\n",
      "D | O | O | O | X |\n",
      "   --- --- --- ---\n",
      "Player 1 Wins\n"
     ]
    }
   ],
   "source": [
    "tictactoe_game(4)"
   ]
  },
  {
   "cell_type": "markdown",
   "metadata": {},
   "source": [
    "*Exercise 11:* (Advanced / Challenge) Develop a version of the game where one player is the computer. Note that you don't need to do an extensive seach for the best move. You can have the computer simply protect against loosing and otherwise try to win with straight or diagonal patterns."
   ]
  },
  {
   "cell_type": "code",
   "execution_count": null,
   "metadata": {},
   "outputs": [],
   "source": []
  }
 ],
 "metadata": {
  "kernelspec": {
   "display_name": "Python 3 (ipykernel)",
   "language": "python",
   "name": "python3"
  },
  "language_info": {
   "codemirror_mode": {
    "name": "ipython",
    "version": 3
   },
   "file_extension": ".py",
   "mimetype": "text/x-python",
   "name": "python",
   "nbconvert_exporter": "python",
   "pygments_lexer": "ipython3",
   "version": "3.10.12"
  }
 },
 "nbformat": 4,
 "nbformat_minor": 4
}
