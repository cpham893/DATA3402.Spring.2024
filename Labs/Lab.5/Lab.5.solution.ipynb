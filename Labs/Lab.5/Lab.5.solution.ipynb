{
 "cells": [
  {
   "cell_type": "markdown",
   "metadata": {},
   "source": [
    "# Lab 5\n"
   ]
  },
  {
   "cell_type": "markdown",
   "metadata": {},
   "source": [
    "Matrix Representation: In this lab you will be creating a simple linear algebra system. In memory, we will represent matrices as nested python lists as we have done in lecture. \n",
    "\n",
    "1. Create a `matrix` class with the following properties:\n",
    "    * It can be initialized in 2 ways:\n",
    "        1. with arguments `n` and `m`, the size of the matrix. A newly instanciated matrix will contain all zeros.\n",
    "        2. with a list of lists of values. Note that since we are using lists of lists to implement matrices, it is possible that not all rows have the same number of columns. Test explicitly that the matrix is properly specified.\n",
    "    * Matrix instances `M` can be indexed with `M[i][j]` and `M[i,j]`.\n",
    "    * Matrix assignment works in 2 ways:\n",
    "        1. If `M_1` and `M_2` are `matrix` instances `M_1=M_2` sets the values of `M_1` to those of `M_2`, if they are the same size. Error otherwise.\n",
    "        2. In example above `M_2` can be a list of lists of correct size.\n"
   ]
  },
  {
   "cell_type": "code",
   "execution_count": 1,
   "metadata": {},
   "outputs": [],
   "source": [
    "class matrix:\n",
    "    def __init__(self, *args):\n",
    "        if len(args)==2 and isinstance(args[0],int) and isinstance(args[1],int):\n",
    "            n,m=args\n",
    "            self.matrix_=[[0] * m for num in range(n)]\n",
    "            print(self.matrix_)\n",
    "        elif len(args)==1 and isinstance(args[0],list):\n",
    "            lists=args[0]\n",
    "            if all(len(item)==len(lists[0]) for item in lists):\n",
    "                self.matrix_=lists\n",
    "            print(self.matrix_)\n",
    "\n",
    "    def __getitem__(self, index):\n",
    "        if isinstance(index,tuple) and len(index)==2:\n",
    "            row,col=index\n",
    "            return self.matrix_[row][col]\n",
    "        if isinstance(index, int):\n",
    "            return self.matrix_[index] \n"
   ]
  },
  {
   "cell_type": "code",
   "execution_count": 2,
   "metadata": {},
   "outputs": [
    {
     "name": "stdout",
     "output_type": "stream",
     "text": [
      "[[0, 0, 0], [0, 0, 0]]\n"
     ]
    }
   ],
   "source": [
    "m=matrix(2,3)"
   ]
  },
  {
   "cell_type": "code",
   "execution_count": 3,
   "metadata": {},
   "outputs": [
    {
     "name": "stdout",
     "output_type": "stream",
     "text": [
      "[[0, 0, 0], [0, 0, 0]]\n",
      "[[1, 2, 3], [4, 5, 6]]\n"
     ]
    }
   ],
   "source": [
    "m1=matrix(2,3)\n",
    "m2=matrix([[1,2,3],\n",
    "           [4,5,6]])"
   ]
  },
  {
   "cell_type": "code",
   "execution_count": 4,
   "metadata": {},
   "outputs": [],
   "source": [
    "#m1[0,0]\n",
    "#m1[1][1]\n",
    "#m2[0,0]\n",
    "#m2[1][2]"
   ]
  },
  {
   "cell_type": "markdown",
   "metadata": {},
   "source": [
    "2. Add the following methods:\n",
    "    * `shape()`: returns a tuple `(n,m)` of the shape of the matrix.\n",
    "    * `transpose()`: returns a new matrix instance which is the transpose of the matrix.\n",
    "    * `row(n)` and `column(n)`: that return the nth row or column of the matrix M as a new appropriately shaped matrix object.\n",
    "    * `to_list()`: which returns the matrix as a list of lists.\n",
    "    *  `block(n_0,n_1,m_0,m_1)` that returns a smaller matrix located at the n_0 to n_1 columns and m_0 to m_1 rows. \n",
    "    * (Extra credit) Modify `__getitem__` implemented above to support slicing.\n",
    "        "
   ]
  },
  {
   "cell_type": "code",
   "execution_count": 5,
   "metadata": {},
   "outputs": [],
   "source": [
    "class matrix:\n",
    "    def __init__(self, *args):\n",
    "        if len(args)==2 and isinstance(args[0],int) and isinstance(args[1],int):\n",
    "            n,m=args\n",
    "            self.matrix_=[[0] * m for num in range(n)]\n",
    "            #print(self.matrix_)\n",
    "        elif len(args)==1 and isinstance(args[0],list):\n",
    "            lists=args[0]\n",
    "            if all(len(item)==len(lists[0]) for item in lists):\n",
    "                self.matrix_=lists\n",
    "            #print(self.matrix_)\n",
    "\n",
    "    def __getitem__(self, index):\n",
    "        if isinstance(index,tuple) and len(index)==2:\n",
    "            n,m=index\n",
    "            if isinstance(n,slice) and isinstance(m,slice):\n",
    "                rows=self.matrix_[n]\n",
    "                slice_m=[]\n",
    "                for row in rows:\n",
    "                    for i in range(*m.indices(len(row))):\n",
    "                        slice_m.append(row[i])\n",
    "                return slice_m \n",
    "                \n",
    "            elif isinstance(n,slice) and isinstance(m,int):\n",
    "                rows=self.matrix_[n]\n",
    "                slice_c=[]\n",
    "                for row in rows:\n",
    "                    slice_c.append(row[m])\n",
    "                return slice_c      \n",
    "            elif isinstance(n,int) and isinstance(m,slice):\n",
    "                row=self.matrix_[n]\n",
    "                slice_r=[row[m]]\n",
    "                return slice_r            \n",
    "            elif isinstance(n,int) and isinstance(m,int):\n",
    "                return self.matrix_[n][m]           \n",
    "        elif isinstance(index, int):\n",
    "            return self.matrix_[index]    \n",
    "\n",
    "    \n",
    "    def shape(self):\n",
    "        n=len(self.matrix_)\n",
    "        m=len(self.matrix_[0])\n",
    "        return (n,m)\n",
    "\n",
    "    def transpose(self):\n",
    "        n,m=self.shape()\n",
    "        t=[[self.matrix_[j][i] for j in range(n)] for i in range(m)]\n",
    "        return t\n",
    "\n",
    "    def row(self, n):\n",
    "        return self.matrix_[n]\n",
    "        \n",
    "    def column(self, n):\n",
    "        c=[]\n",
    "        for row in self.matrix_:\n",
    "            c.append(row[n])\n",
    "        return c\n",
    "\n",
    "    def to_list(self):\n",
    "        lst=[]\n",
    "        for row in self.matrix_:\n",
    "            lst.append(row[:])\n",
    "        return lst\n",
    "\n",
    "    def block(self, r_start, r_end, c_start, c_end):\n",
    "        slice_m=[]\n",
    "        for row in self.matrix_[r_start:r_end+1]:\n",
    "            slice_m.append(row[c_start:c_end+1])\n",
    "        return slice_m"
   ]
  },
  {
   "cell_type": "code",
   "execution_count": 24,
   "metadata": {},
   "outputs": [],
   "source": [
    "mat=matrix([[1,2,3],\n",
    "            [4,5,6],\n",
    "            [7,8,9]])\n",
    "\n",
    "\n",
    "#mat.shape()\n",
    "#mat.transpose()\n",
    "#mat.row(1)\n",
    "#mat.column(2)\n",
    "#mat.to_list()\n",
    "#mat.block(0,1,0,1)\n",
    "#mat[0:2,2]"
   ]
  },
  {
   "cell_type": "markdown",
   "metadata": {},
   "source": [
    "3. Write functions that create special matrices (note these are standalone functions, not member functions of your `matrix` class):\n",
    "    * `constant(n,m,c)`: returns a `n` by `m` matrix filled with floats of value `c`.\n",
    "    * `zeros(n,m)` and `ones(n,m)`: return `n` by `m` matrices filled with floats of value `0` and `1`, respectively.\n",
    "    * `eye(n)`: returns the n by n identity matrix."
   ]
  },
  {
   "cell_type": "code",
   "execution_count": 7,
   "metadata": {},
   "outputs": [
    {
     "data": {
      "text/plain": [
       "[[3.7, 3.7, 3.7], [3.7, 3.7, 3.7], [3.7, 3.7, 3.7], [3.7, 3.7, 3.7]]"
      ]
     },
     "execution_count": 7,
     "metadata": {},
     "output_type": "execute_result"
    }
   ],
   "source": [
    "def constant(n, m, c):\n",
    "    matrix=[n*[c]]*m\n",
    "    return matrix\n",
    "\n",
    "constant(3,4,3.7)"
   ]
  },
  {
   "cell_type": "code",
   "execution_count": 8,
   "metadata": {},
   "outputs": [
    {
     "data": {
      "text/plain": [
       "[[0, 0], [0, 0], [0, 0], [0, 0], [0, 0]]"
      ]
     },
     "execution_count": 8,
     "metadata": {},
     "output_type": "execute_result"
    }
   ],
   "source": [
    "def zeros(n, m):\n",
    "    matrix=[n*[0]]*m\n",
    "    return matrix\n",
    "\n",
    "zeros(2,5)"
   ]
  },
  {
   "cell_type": "code",
   "execution_count": 9,
   "metadata": {},
   "outputs": [
    {
     "data": {
      "text/plain": [
       "[[1, 1, 1, 1, 1], [1, 1, 1, 1, 1], [1, 1, 1, 1, 1], [1, 1, 1, 1, 1]]"
      ]
     },
     "execution_count": 9,
     "metadata": {},
     "output_type": "execute_result"
    }
   ],
   "source": [
    "def ones(n, m):\n",
    "    matrix=[n*[1]]*m\n",
    "    return matrix\n",
    "\n",
    "ones(5,4)"
   ]
  },
  {
   "cell_type": "code",
   "execution_count": 10,
   "metadata": {},
   "outputs": [
    {
     "data": {
      "text/plain": [
       "[[1, 0, 0, 0], [0, 1, 0, 0], [0, 0, 1, 0], [0, 0, 0, 1]]"
      ]
     },
     "execution_count": 10,
     "metadata": {},
     "output_type": "execute_result"
    }
   ],
   "source": [
    "def eye(n):\n",
    "    matrix=[]\n",
    "    for i in range(n):\n",
    "        matrix.append([0]*n)\n",
    "    for i in range(n):\n",
    "        matrix[i][i]=1\n",
    "    return matrix\n",
    "\n",
    "eye(4)"
   ]
  },
  {
   "cell_type": "markdown",
   "metadata": {},
   "source": [
    "4. Add the following member functions to your class. Make sure to appropriately test the dimensions of the matrices to make sure the operations are correct.\n",
    "    * `M.scalarmul(c)`: a matrix that is scalar product $cM$, where every element of $M$ is multiplied by $c$.\n",
    "    * `M.add(N)`: adds two matrices $M$ and $N$. Don’t forget to test that the sizes of the matrices are compatible for this and all other operations.\n",
    "    * `M.sub(N)`: subtracts two matrices $M$ and $N$.\n",
    "    * `M.mat_mult(N)`: returns a matrix that is the matrix product of two matrices $M$ and $N$.\n",
    "    * `M.element_mult(N)`: returns a matrix that is the element-wise product of two matrices $M$ and $N$.\n",
    "    * `M.equals(N)`: returns true/false if $M==N$."
   ]
  },
  {
   "cell_type": "code",
   "execution_count": 11,
   "metadata": {},
   "outputs": [],
   "source": [
    "class matrix:\n",
    "    def __init__(self, *args):\n",
    "        if len(args)==2 and isinstance(args[0],int) and isinstance(args[1],int):\n",
    "            n,m=args\n",
    "            self.matrix_=[[0] * m for num in range(n)]\n",
    "            #print(self.matrix_)\n",
    "        elif len(args)==1 and isinstance(args[0],list):\n",
    "            lists=args[0]\n",
    "            if all(len(item)==len(lists[0]) for item in lists):\n",
    "                self.matrix_=lists\n",
    "            #print(self.matrix_)\n",
    "\n",
    "    def __getitem__(self, index):\n",
    "        if isinstance(index,tuple) and len(index)==2:\n",
    "            n,m=index\n",
    "            if isinstance(n,slice) and isinstance(m,slice):\n",
    "                rows=self.matrix_[n]\n",
    "                slice_m=[]\n",
    "                for row in rows:\n",
    "                    for i in range(*m.indices(len(row))):\n",
    "                        slice_m.append(row[i])\n",
    "                return slice_m \n",
    "                \n",
    "            elif isinstance(n,slice) and isinstance(m,int):\n",
    "                rows=self.matrix_[n]\n",
    "                slice_c=[]\n",
    "                for row in rows:\n",
    "                    slice_c.append(row[m])\n",
    "                return slice_c      \n",
    "            elif isinstance(n,int) and isinstance(m,slice):\n",
    "                row=self.matrix_[n]\n",
    "                slice_r=[row[m]]\n",
    "                return slice_r            \n",
    "            elif isinstance(n,int) and isinstance(m,int):\n",
    "                return self.matrix_[n][m]           \n",
    "        elif isinstance(index, int):\n",
    "            return self.matrix_[index]    \n",
    "    \n",
    "    def shape(self):\n",
    "        n=len(self.matrix_)\n",
    "        m=len(self.matrix_[0])\n",
    "        return (n,m)\n",
    "\n",
    "    def transpose(self):\n",
    "        n,m=self.shape()\n",
    "        t=[[self.matrix_[j][i] for j in range(n)] for i in range(m)]\n",
    "        return t\n",
    "\n",
    "    def row(self, n):\n",
    "        return self.matrix_[n]\n",
    "        \n",
    "    def column(self, n):\n",
    "        c=[]\n",
    "        for row in self.matrix_:\n",
    "            c.append(row[n])\n",
    "        return c\n",
    "\n",
    "    def to_list(self):\n",
    "        lst=[]\n",
    "        for row in self.matrix_:\n",
    "            lst.append(row[:])\n",
    "        return lst\n",
    "\n",
    "    def block(self, r_start, r_end, c_start, c_end):\n",
    "        slice_m=[]\n",
    "        for row in self.matrix_[r_start:r_end+1]:\n",
    "            slice_m.append(row[c_start:c_end+1])\n",
    "        return slice_m\n",
    "        \n",
    "    def scalarmul(self, c):\n",
    "        sm=[]\n",
    "        for lst in self.matrix_:\n",
    "            lst_=[]\n",
    "            for i in lst:\n",
    "                lst_.append(i*c)\n",
    "            sm.append(lst_)\n",
    "        return sm\n",
    "\n",
    "    def add(self, N):\n",
    "        a=[]\n",
    "        for lst in self.matrix_:\n",
    "            lst_=[]\n",
    "            for i in lst:\n",
    "                lst_.append(i+N)\n",
    "            a.append(lst_)\n",
    "        return a\n",
    "        \n",
    "    def sub(self, N):\n",
    "        s=[]\n",
    "        for lst in self.matrix_:\n",
    "            lst_=[]\n",
    "            for i in lst:\n",
    "                lst_.append(i-N)\n",
    "            s.append(lst_)\n",
    "        return s\n",
    "        \n",
    "    def mat_mult(self, N):\n",
    "        if len(self.matrix_[0])!=len(N):\n",
    "            return \"row number of matrix 1 must equal column number of matrix 2\"\n",
    "        else:\n",
    "            mm=[[0 for i in range(len(N[0]))] for j in range(len(self.matrix_))]\n",
    "            for i in range(len(self.matrix_)):\n",
    "                for j in range(len(N[0])):\n",
    "                    for k in range(len(N)):\n",
    "                        mm[i][j]+=self.matrix_[i][k] * N[k][j]\n",
    "            return mm\n",
    "\n",
    "    def element_mult(self, N):\n",
    "        if len(self.matrix_)!=len(N) or len(self.matrix_[0])!= len(N[0]):\n",
    "            return \"size of both matrices must be the same\"\n",
    "        else:\n",
    "            em=[[0 for i in range(len(self.matrix_[0]))] for j in range(len(self.matrix_))]\n",
    "            for i in range(len(self.matrix_)):\n",
    "                for j in range(len(self.matrix_[0])):\n",
    "                    em[i][j]=(self.matrix_[i][j]*N[i][j])                        \n",
    "            return em    \n",
    "            \n",
    "    def equals(self, N):\n",
    "        return self.matrix_==N"
   ]
  },
  {
   "cell_type": "code",
   "execution_count": 27,
   "metadata": {},
   "outputs": [],
   "source": [
    "mat=matrix([[1,2,3],\n",
    "            [4,5,6],\n",
    "            [7,8,9]])\n",
    "test1=[[1,2],\n",
    "       [1,2],\n",
    "       [1,2]]\n",
    "test2=[[2,2,2],\n",
    "       [2,2,2],\n",
    "       [2,2,2]]\n",
    "\n",
    "#mat.scalarmul(2)\n",
    "#mat.add(4)\n",
    "#mat.sub(3)\n",
    "#mat.mat_mult(test1)\n",
    "#mat.element_mult(test2)\n",
    "#mat.equals(test2)"
   ]
  },
  {
   "cell_type": "markdown",
   "metadata": {},
   "source": [
    "5. Overload python operators to appropriately use your functions in 4 and allow expressions like:\n",
    "    * 2*M\n",
    "    * M*2\n",
    "    * M+N\n",
    "    * M-N\n",
    "    * M*N\n",
    "    * M==N\n",
    "    * M=N\n"
   ]
  },
  {
   "cell_type": "code",
   "execution_count": 30,
   "metadata": {},
   "outputs": [],
   "source": [
    "class matrix:\n",
    "    def __init__(self, *args):\n",
    "        if len(args)==2 and isinstance(args[0],int) and isinstance(args[1],int):\n",
    "            n,m=args\n",
    "            self.matrix_=[[0] * m for num in range(n)]\n",
    "            #print(self.matrix_)\n",
    "        elif len(args)==1 and isinstance(args[0],list):\n",
    "            lists=args[0]\n",
    "            if all(len(item)==len(lists[0]) for item in lists):\n",
    "                self.matrix_=lists\n",
    "            #print(self.matrix_)\n",
    "\n",
    "    def __getitem__(self, index):\n",
    "        if isinstance(index,tuple) and len(index)==2:\n",
    "            n,m=index\n",
    "            if isinstance(n,slice) and isinstance(m,slice):\n",
    "                rows=self.matrix_[n]\n",
    "                slice_m=[]\n",
    "                for row in rows:\n",
    "                    for i in range(*m.indices(len(row))):\n",
    "                        slice_m.append(row[i])\n",
    "                return slice_m \n",
    "                \n",
    "            elif isinstance(n,slice) and isinstance(m,int):\n",
    "                rows=self.matrix_[n]\n",
    "                slice_c=[]\n",
    "                for row in rows:\n",
    "                    slice_c.append(row[m])\n",
    "                return slice_c      \n",
    "            elif isinstance(n,int) and isinstance(m,slice):\n",
    "                row=self.matrix_[n]\n",
    "                slice_r=[row[m]]\n",
    "                return slice_r            \n",
    "            elif isinstance(n,int) and isinstance(m,int):\n",
    "                return self.matrix_[n][m]           \n",
    "        elif isinstance(index, int):\n",
    "            return self.matrix_[index]    \n",
    "\n",
    "    ##########################################\n",
    "\n",
    "    def __mul__(self, other):\n",
    "        if isinstance(other,int):\n",
    "            if isinstance(other,int):\n",
    "                other_m=[[other for i in range(len(self.matrix_[0]))] for j in range(len(self.matrix_))]\n",
    "                out=[[0 for i in range(len(self.matrix_[0]))] for j in range(len(self.matrix_))]\n",
    "                for i in range(len(self.matrix_)):\n",
    "                    for j in range(len(self.matrix_[0])):\n",
    "                        out[i][j]=(self.matrix_[i][j]*other_m[i][j])                        \n",
    "                return matrix(out)   \n",
    "        elif isinstance(other,matrix):\n",
    "            out=[[0 for i in range(len(self.matrix_[0]))] for j in range(len(self.matrix_))]           \n",
    "            if len(self.matrix_)==len(other.matrix_) and len(self.matrix_[0])==len(other.matrix_[0]):\n",
    "                for i in range(len(self.matrix_)):\n",
    "                    for j in range(len(self.matrix_[0])):\n",
    "                        out[i][j]=(self.matrix_[i][j]*other[i][j])                        \n",
    "                return matrix(out)             \n",
    "            if len(self.matrix_[0])==len(other.matrix_):\n",
    "                out=[[0 for i in range(len(other.matrix_[0]))] for j in range(len(self.matrix_))]\n",
    "                for i in range(len(self.matrix_)):\n",
    "                    for j in range(len(other.matrix_[0])):\n",
    "                        for k in range(len(other.matrix_)):\n",
    "                            out[i][j]+=self.matrix_[i][k]*other.matrix_[k][j]\n",
    "                return matrix(out) \n",
    "                \n",
    "  \n",
    "    def __rmul__(self, other):\n",
    "        return self.__mul__(other)\n",
    "        \n",
    "    def __add__(self, other):\n",
    "        if isinstance(other,matrix):\n",
    "            out=[[0 for i in range(len(self.matrix_[0]))] for j in range(len(self.matrix_))]\n",
    "            for i in range(len(self.matrix_)):\n",
    "                for j in range(len(self.matrix_[0])):\n",
    "                    out[i][j]=(self.matrix_[i][j]+other[i][j])                        \n",
    "            return matrix(out)            \n",
    "        \n",
    "    def __sub__(self, other):\n",
    "        if isinstance(other,matrix):\n",
    "            out=[[0 for i in range(len(self.matrix_[0]))] for j in range(len(self.matrix_))]\n",
    "            for i in range(len(self.matrix_)):\n",
    "                for j in range(len(self.matrix_[0])):\n",
    "                    out[i][j]=(self.matrix_[i][j]-other[i][j])                        \n",
    "            return matrix(out)   \n",
    "        \n",
    "    ###########################################\n",
    "    \n",
    "    def shape(self):\n",
    "        n=len(self.matrix_)\n",
    "        m=len(self.matrix_[0])\n",
    "        return (n,m)\n",
    "\n",
    "    def transpose(self):\n",
    "        n,m=self.shape()\n",
    "        t=[[self.matrix_[j][i] for j in range(n)] for i in range(m)]\n",
    "        return t\n",
    "\n",
    "    def row(self, n):\n",
    "        return self.matrix_[n]\n",
    "        \n",
    "    def column(self, n):\n",
    "        c=[]\n",
    "        for row in self.matrix_:\n",
    "            c.append(row[n])\n",
    "        return c\n",
    "\n",
    "    def to_list(self):\n",
    "        lst=[]\n",
    "        for row in self.matrix_:\n",
    "            lst.append(row[:])\n",
    "        return lst\n",
    "\n",
    "    def block(self, r_start, r_end, c_start, c_end):\n",
    "        slice_m=[]\n",
    "        for row in self.matrix_[r_start:r_end+1]:\n",
    "            slice_m.append(row[c_start:c_end+1])\n",
    "        return slice_m\n",
    "        \n",
    "    def scalarmul(self, c):\n",
    "        sm=[]\n",
    "        for lst in self.matrix_:\n",
    "            lst_=[]\n",
    "            for i in lst:\n",
    "                lst_.append(i*c)\n",
    "            sm.append(lst_)\n",
    "        return sm\n",
    "\n",
    "    def add(self, N):\n",
    "        a=[]\n",
    "        for lst in self.matrix_:\n",
    "            lst_=[]\n",
    "            for i in lst:\n",
    "                lst_.append(i+N)\n",
    "            a.append(lst_)\n",
    "        return a\n",
    "        \n",
    "    def sub(self, N):\n",
    "        s=[]\n",
    "        for lst in self.matrix_:\n",
    "            lst_=[]\n",
    "            for i in lst:\n",
    "                lst_.append(i-N)\n",
    "            s.append(lst_)\n",
    "        return s\n",
    "        \n",
    "    def mat_mult(self, N):\n",
    "        if len(self.matrix_[0])!=len(N):\n",
    "            return \"row number of matrix 1 must equal column number of matrix 2\"\n",
    "        else:\n",
    "            mm=[[0 for i in range(len(N[0]))] for j in range(len(self.matrix_))]\n",
    "            for i in range(len(self.matrix_)):\n",
    "                for j in range(len(N[0])):\n",
    "                    for k in range(len(N)):\n",
    "                        mm[i][j]+=self.matrix_[i][k] * N[k][j]\n",
    "            return mm\n",
    "\n",
    "    def element_mult(self, N):\n",
    "        if len(self.matrix_)!=len(N) or len(self.matrix_[0])!= len(N[0]):\n",
    "            return \"size of both matrices must be the same\"\n",
    "        else:\n",
    "            em=[[0 for i in range(len(self.matrix_[0]))] for j in range(len(self.matrix_))]\n",
    "            for i in range(len(self.matrix_)):\n",
    "                for j in range(len(self.matrix_[0])):\n",
    "                    em[i][j]=(self.matrix_[i][j]*N[i][j])                        \n",
    "            return em    \n",
    "            \n",
    "    def equals(self, N):\n",
    "        return self.matrix_==N"
   ]
  },
  {
   "cell_type": "code",
   "execution_count": 31,
   "metadata": {},
   "outputs": [
    {
     "name": "stdout",
     "output_type": "stream",
     "text": [
      "[[2, 4, 6, 8, 10], [12, 14, 16, 18, 20]]\n",
      "[[2, 4, 6, 8, 10], [12, 14, 16, 18, 20]]\n",
      "[[4, 5, 6, 7, 8], [9, 10, 11, 12, 13]]\n",
      "[[-2, -1, 0, 1, 2], [3, 4, 5, 6, 7]]\n",
      "[[3, 6, 9, 12, 15], [18, 21, 24, 27, 30]]\n",
      "[[45, 45], [120, 120]]\n",
      "False\n",
      "[[3, 3, 3, 3, 3], [3, 3, 3, 3, 3]]\n"
     ]
    }
   ],
   "source": [
    "M=matrix([[1,2,3,4,5],[6,7,8,9,10]])\n",
    "N=matrix([[3,3,3,3,3],[3,3,3,3,3]])\n",
    "N2=matrix([[3,3],[3,3],[3,3],[3,3],[3,3]])\n",
    "\n",
    "print((2*M).matrix_)\n",
    "print((M*2).matrix_)\n",
    "print((M+N).matrix_)\n",
    "print((M-N).matrix_)\n",
    "print((M*N).matrix_)\n",
    "print((M*N2).matrix_)\n",
    "print(M==N)\n",
    "M=N\n",
    "print(M.matrix_)"
   ]
  },
  {
   "cell_type": "markdown",
   "metadata": {},
   "source": [
    "6. Demonstrate the basic properties of matrices with your matrix class by creating two 2 by 2 example matrices using your Matrix class and illustrating the following:\n",
    "\n",
    "$$\n",
    "(AB)C=A(BC)\n",
    "$$\n",
    "$$\n",
    "A(B+C)=AB+AC\n",
    "$$\n",
    "$$\n",
    "AB\\neq BA\n",
    "$$\n",
    "$$\n",
    "AI=A\n",
    "$$"
   ]
  },
  {
   "cell_type": "code",
   "execution_count": 15,
   "metadata": {},
   "outputs": [],
   "source": [
    "A=matrix([[1,2],[3,4]])\n",
    "B=matrix([[2,2],[2,2]])\n",
    "C=matrix([[3,3],[3,3]])"
   ]
  },
  {
   "cell_type": "code",
   "execution_count": 16,
   "metadata": {},
   "outputs": [
    {
     "name": "stdout",
     "output_type": "stream",
     "text": [
      "False\n",
      "False\n",
      "False\n",
      "[[1, 2], [3, 4]]\n"
     ]
    }
   ],
   "source": [
    "print((A*B)*C==A*(B*C))\n",
    "print(A*(B+C)==(A*B)+(A*C))\n",
    "print(A*B==B*A)\n",
    "\n",
    "print(A.matrix_)"
   ]
  },
  {
   "cell_type": "code",
   "execution_count": null,
   "metadata": {},
   "outputs": [],
   "source": []
  }
 ],
 "metadata": {
  "kernelspec": {
   "display_name": "Python 3 (ipykernel)",
   "language": "python",
   "name": "python3"
  },
  "language_info": {
   "codemirror_mode": {
    "name": "ipython",
    "version": 3
   },
   "file_extension": ".py",
   "mimetype": "text/x-python",
   "name": "python",
   "nbconvert_exporter": "python",
   "pygments_lexer": "ipython3",
   "version": "3.10.12"
  }
 },
 "nbformat": 4,
 "nbformat_minor": 4
}
